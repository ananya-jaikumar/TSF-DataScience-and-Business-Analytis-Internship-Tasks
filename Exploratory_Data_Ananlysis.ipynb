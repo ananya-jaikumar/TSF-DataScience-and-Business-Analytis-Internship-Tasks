{
  "nbformat": 4,
  "nbformat_minor": 0,
  "metadata": {
    "colab": {
      "name": "Exploratory Data Ananlysis.ipynb",
      "provenance": [],
      "collapsed_sections": [],
      "mount_file_id": "18qEcEILb2zy4N-_s5MbEQnQvWlWmkMvG",
      "authorship_tag": "ABX9TyNr24OAHdJxuxdUxQcjl5RM",
      "include_colab_link": true
    },
    "kernelspec": {
      "name": "python3",
      "display_name": "Python 3"
    },
    "language_info": {
      "name": "python"
    }
  },
  "cells": [
    {
      "cell_type": "markdown",
      "metadata": {
        "id": "view-in-github",
        "colab_type": "text"
      },
      "source": [
        "<a href=\"https://colab.research.google.com/github/ananya-jaikumar/TSF-DataScience-and-Business-Analytis-Internship-Tasks/blob/main/Exploratory_Data_Ananlysis.ipynb\" target=\"_parent\"><img src=\"https://colab.research.google.com/assets/colab-badge.svg\" alt=\"Open In Colab\"/></a>"
      ]
    },
    {
      "cell_type": "markdown",
      "metadata": {
        "id": "M3KzaYBKER7k"
      },
      "source": [
        "# **Ananya Jaikumar** \n",
        "Perform ‘Exploratory Data Analysis’ on dataset ‘SampleSuperstore’. Checking for  weak areas  where we can work to make  more profit."
      ]
    },
    {
      "cell_type": "markdown",
      "metadata": {
        "id": "McjmUGueEfKf"
      },
      "source": [
        "# **Importing Libraries**"
      ]
    },
    {
      "cell_type": "code",
      "metadata": {
        "id": "Dv3DUCq6EiYS"
      },
      "source": [
        "import pandas as pd\n",
        "import numpy as np\n",
        "import matplotlib.pyplot as plt\n",
        "import seaborn as sns\n",
        "from matplotlib import style"
      ],
      "execution_count": 1,
      "outputs": []
    },
    {
      "cell_type": "code",
      "metadata": {
        "colab": {
          "base_uri": "https://localhost:8080/"
        },
        "id": "Kyh3S_kKEwjr",
        "outputId": "0978c3d9-5811-4feb-c627-e7bd5d4886f1"
      },
      "source": [
        "data = pd.read_csv('/content/drive/MyDrive/SampleSuperstore.csv')\n",
        "print('Dataset is imported successfully!')"
      ],
      "execution_count": 2,
      "outputs": [
        {
          "output_type": "stream",
          "text": [
            "Dataset is imported successfully!\n"
          ],
          "name": "stdout"
        }
      ]
    },
    {
      "cell_type": "code",
      "metadata": {
        "colab": {
          "base_uri": "https://localhost:8080/",
          "height": 310
        },
        "id": "biDXfjcEE0Nr",
        "outputId": "d45de959-75a5-46ea-a266-6be564e14ebb"
      },
      "source": [
        "data.head()"
      ],
      "execution_count": 3,
      "outputs": [
        {
          "output_type": "execute_result",
          "data": {
            "text/html": [
              "<div>\n",
              "<style scoped>\n",
              "    .dataframe tbody tr th:only-of-type {\n",
              "        vertical-align: middle;\n",
              "    }\n",
              "\n",
              "    .dataframe tbody tr th {\n",
              "        vertical-align: top;\n",
              "    }\n",
              "\n",
              "    .dataframe thead th {\n",
              "        text-align: right;\n",
              "    }\n",
              "</style>\n",
              "<table border=\"1\" class=\"dataframe\">\n",
              "  <thead>\n",
              "    <tr style=\"text-align: right;\">\n",
              "      <th></th>\n",
              "      <th>Ship Mode</th>\n",
              "      <th>Segment</th>\n",
              "      <th>Country</th>\n",
              "      <th>City</th>\n",
              "      <th>State</th>\n",
              "      <th>Postal Code</th>\n",
              "      <th>Region</th>\n",
              "      <th>Category</th>\n",
              "      <th>Sub-Category</th>\n",
              "      <th>Sales</th>\n",
              "      <th>Quantity</th>\n",
              "      <th>Discount</th>\n",
              "      <th>Profit</th>\n",
              "    </tr>\n",
              "  </thead>\n",
              "  <tbody>\n",
              "    <tr>\n",
              "      <th>0</th>\n",
              "      <td>Second Class</td>\n",
              "      <td>Consumer</td>\n",
              "      <td>United States</td>\n",
              "      <td>Henderson</td>\n",
              "      <td>Kentucky</td>\n",
              "      <td>42420</td>\n",
              "      <td>South</td>\n",
              "      <td>Furniture</td>\n",
              "      <td>Bookcases</td>\n",
              "      <td>261.9600</td>\n",
              "      <td>2</td>\n",
              "      <td>0.00</td>\n",
              "      <td>41.9136</td>\n",
              "    </tr>\n",
              "    <tr>\n",
              "      <th>1</th>\n",
              "      <td>Second Class</td>\n",
              "      <td>Consumer</td>\n",
              "      <td>United States</td>\n",
              "      <td>Henderson</td>\n",
              "      <td>Kentucky</td>\n",
              "      <td>42420</td>\n",
              "      <td>South</td>\n",
              "      <td>Furniture</td>\n",
              "      <td>Chairs</td>\n",
              "      <td>731.9400</td>\n",
              "      <td>3</td>\n",
              "      <td>0.00</td>\n",
              "      <td>219.5820</td>\n",
              "    </tr>\n",
              "    <tr>\n",
              "      <th>2</th>\n",
              "      <td>Second Class</td>\n",
              "      <td>Corporate</td>\n",
              "      <td>United States</td>\n",
              "      <td>Los Angeles</td>\n",
              "      <td>California</td>\n",
              "      <td>90036</td>\n",
              "      <td>West</td>\n",
              "      <td>Office Supplies</td>\n",
              "      <td>Labels</td>\n",
              "      <td>14.6200</td>\n",
              "      <td>2</td>\n",
              "      <td>0.00</td>\n",
              "      <td>6.8714</td>\n",
              "    </tr>\n",
              "    <tr>\n",
              "      <th>3</th>\n",
              "      <td>Standard Class</td>\n",
              "      <td>Consumer</td>\n",
              "      <td>United States</td>\n",
              "      <td>Fort Lauderdale</td>\n",
              "      <td>Florida</td>\n",
              "      <td>33311</td>\n",
              "      <td>South</td>\n",
              "      <td>Furniture</td>\n",
              "      <td>Tables</td>\n",
              "      <td>957.5775</td>\n",
              "      <td>5</td>\n",
              "      <td>0.45</td>\n",
              "      <td>-383.0310</td>\n",
              "    </tr>\n",
              "    <tr>\n",
              "      <th>4</th>\n",
              "      <td>Standard Class</td>\n",
              "      <td>Consumer</td>\n",
              "      <td>United States</td>\n",
              "      <td>Fort Lauderdale</td>\n",
              "      <td>Florida</td>\n",
              "      <td>33311</td>\n",
              "      <td>South</td>\n",
              "      <td>Office Supplies</td>\n",
              "      <td>Storage</td>\n",
              "      <td>22.3680</td>\n",
              "      <td>2</td>\n",
              "      <td>0.20</td>\n",
              "      <td>2.5164</td>\n",
              "    </tr>\n",
              "  </tbody>\n",
              "</table>\n",
              "</div>"
            ],
            "text/plain": [
              "        Ship Mode    Segment        Country  ... Quantity Discount    Profit\n",
              "0    Second Class   Consumer  United States  ...        2     0.00   41.9136\n",
              "1    Second Class   Consumer  United States  ...        3     0.00  219.5820\n",
              "2    Second Class  Corporate  United States  ...        2     0.00    6.8714\n",
              "3  Standard Class   Consumer  United States  ...        5     0.45 -383.0310\n",
              "4  Standard Class   Consumer  United States  ...        2     0.20    2.5164\n",
              "\n",
              "[5 rows x 13 columns]"
            ]
          },
          "metadata": {
            "tags": []
          },
          "execution_count": 3
        }
      ]
    },
    {
      "cell_type": "code",
      "metadata": {
        "colab": {
          "base_uri": "https://localhost:8080/"
        },
        "id": "LDDPab83E6Va",
        "outputId": "eef353f4-cf5c-43c7-f7cf-f71a485619b3"
      },
      "source": [
        "# Checking for null entries\n",
        "data.isnull().any()"
      ],
      "execution_count": 4,
      "outputs": [
        {
          "output_type": "execute_result",
          "data": {
            "text/plain": [
              "Ship Mode       False\n",
              "Segment         False\n",
              "Country         False\n",
              "City            False\n",
              "State           False\n",
              "Postal Code     False\n",
              "Region          False\n",
              "Category        False\n",
              "Sub-Category    False\n",
              "Sales           False\n",
              "Quantity        False\n",
              "Discount        False\n",
              "Profit          False\n",
              "dtype: bool"
            ]
          },
          "metadata": {
            "tags": []
          },
          "execution_count": 4
        }
      ]
    },
    {
      "cell_type": "markdown",
      "metadata": {
        "id": "L3tR7oFxE9TJ"
      },
      "source": [
        "# **Visualizing Data**"
      ]
    },
    {
      "cell_type": "code",
      "metadata": {
        "colab": {
          "base_uri": "https://localhost:8080/",
          "height": 300
        },
        "id": "9LUmPun-FIZv",
        "outputId": "53a6007a-baf0-4142-f49a-29d7445e3d10"
      },
      "source": [
        "data.describe()"
      ],
      "execution_count": 5,
      "outputs": [
        {
          "output_type": "execute_result",
          "data": {
            "text/html": [
              "<div>\n",
              "<style scoped>\n",
              "    .dataframe tbody tr th:only-of-type {\n",
              "        vertical-align: middle;\n",
              "    }\n",
              "\n",
              "    .dataframe tbody tr th {\n",
              "        vertical-align: top;\n",
              "    }\n",
              "\n",
              "    .dataframe thead th {\n",
              "        text-align: right;\n",
              "    }\n",
              "</style>\n",
              "<table border=\"1\" class=\"dataframe\">\n",
              "  <thead>\n",
              "    <tr style=\"text-align: right;\">\n",
              "      <th></th>\n",
              "      <th>Postal Code</th>\n",
              "      <th>Sales</th>\n",
              "      <th>Quantity</th>\n",
              "      <th>Discount</th>\n",
              "      <th>Profit</th>\n",
              "    </tr>\n",
              "  </thead>\n",
              "  <tbody>\n",
              "    <tr>\n",
              "      <th>count</th>\n",
              "      <td>9994.000000</td>\n",
              "      <td>9994.000000</td>\n",
              "      <td>9994.000000</td>\n",
              "      <td>9994.000000</td>\n",
              "      <td>9994.000000</td>\n",
              "    </tr>\n",
              "    <tr>\n",
              "      <th>mean</th>\n",
              "      <td>55190.379428</td>\n",
              "      <td>229.858001</td>\n",
              "      <td>3.789574</td>\n",
              "      <td>0.156203</td>\n",
              "      <td>28.656896</td>\n",
              "    </tr>\n",
              "    <tr>\n",
              "      <th>std</th>\n",
              "      <td>32063.693350</td>\n",
              "      <td>623.245101</td>\n",
              "      <td>2.225110</td>\n",
              "      <td>0.206452</td>\n",
              "      <td>234.260108</td>\n",
              "    </tr>\n",
              "    <tr>\n",
              "      <th>min</th>\n",
              "      <td>1040.000000</td>\n",
              "      <td>0.444000</td>\n",
              "      <td>1.000000</td>\n",
              "      <td>0.000000</td>\n",
              "      <td>-6599.978000</td>\n",
              "    </tr>\n",
              "    <tr>\n",
              "      <th>25%</th>\n",
              "      <td>23223.000000</td>\n",
              "      <td>17.280000</td>\n",
              "      <td>2.000000</td>\n",
              "      <td>0.000000</td>\n",
              "      <td>1.728750</td>\n",
              "    </tr>\n",
              "    <tr>\n",
              "      <th>50%</th>\n",
              "      <td>56430.500000</td>\n",
              "      <td>54.490000</td>\n",
              "      <td>3.000000</td>\n",
              "      <td>0.200000</td>\n",
              "      <td>8.666500</td>\n",
              "    </tr>\n",
              "    <tr>\n",
              "      <th>75%</th>\n",
              "      <td>90008.000000</td>\n",
              "      <td>209.940000</td>\n",
              "      <td>5.000000</td>\n",
              "      <td>0.200000</td>\n",
              "      <td>29.364000</td>\n",
              "    </tr>\n",
              "    <tr>\n",
              "      <th>max</th>\n",
              "      <td>99301.000000</td>\n",
              "      <td>22638.480000</td>\n",
              "      <td>14.000000</td>\n",
              "      <td>0.800000</td>\n",
              "      <td>8399.976000</td>\n",
              "    </tr>\n",
              "  </tbody>\n",
              "</table>\n",
              "</div>"
            ],
            "text/plain": [
              "        Postal Code         Sales     Quantity     Discount       Profit\n",
              "count   9994.000000   9994.000000  9994.000000  9994.000000  9994.000000\n",
              "mean   55190.379428    229.858001     3.789574     0.156203    28.656896\n",
              "std    32063.693350    623.245101     2.225110     0.206452   234.260108\n",
              "min     1040.000000      0.444000     1.000000     0.000000 -6599.978000\n",
              "25%    23223.000000     17.280000     2.000000     0.000000     1.728750\n",
              "50%    56430.500000     54.490000     3.000000     0.200000     8.666500\n",
              "75%    90008.000000    209.940000     5.000000     0.200000    29.364000\n",
              "max    99301.000000  22638.480000    14.000000     0.800000  8399.976000"
            ]
          },
          "metadata": {
            "tags": []
          },
          "execution_count": 5
        }
      ]
    },
    {
      "cell_type": "code",
      "metadata": {
        "colab": {
          "base_uri": "https://localhost:8080/"
        },
        "id": "UpTbeuVzFNaA",
        "outputId": "b4e58639-4b80-4cf5-c736-29954423a091"
      },
      "source": [
        "# gives us a list of all the column names in our dataframe\n",
        "list(data.columns.values)"
      ],
      "execution_count": 6,
      "outputs": [
        {
          "output_type": "execute_result",
          "data": {
            "text/plain": [
              "['Ship Mode',\n",
              " 'Segment',\n",
              " 'Country',\n",
              " 'City',\n",
              " 'State',\n",
              " 'Postal Code',\n",
              " 'Region',\n",
              " 'Category',\n",
              " 'Sub-Category',\n",
              " 'Sales',\n",
              " 'Quantity',\n",
              " 'Discount',\n",
              " 'Profit']"
            ]
          },
          "metadata": {
            "tags": []
          },
          "execution_count": 6
        }
      ]
    },
    {
      "cell_type": "markdown",
      "metadata": {
        "id": "zDzkTTvrFSwR"
      },
      "source": [
        "***PLOTTING BAR GRAPHS FOR EVERY COLUMN AND ITS FREQUENCY***"
      ]
    },
    {
      "cell_type": "markdown",
      "metadata": {
        "id": "uqOaQ1liFdpT"
      },
      "source": [
        "# **Univariate Analysis**"
      ]
    },
    {
      "cell_type": "code",
      "metadata": {
        "colab": {
          "base_uri": "https://localhost:8080/",
          "height": 719
        },
        "id": "Sx3jNDVhFioj",
        "outputId": "08a42650-cd55-4088-e8dc-bec08d63d84f"
      },
      "source": [
        "print('Frequency of each category:\\n\\n',data['Category'].value_counts())\n",
        "\n",
        "print('\\nPercentage of each category sold:\\n\\n',(data['Category'].value_counts()/data['Category'].size)*100)\n",
        "\n",
        "plt.figure(figsize=[6,6])\n",
        "data['Category'].value_counts().plot(kind='bar', color= 'red')\n",
        "plt.title('Category VS Frequency of Category', fontsize = 16)\n",
        "style.use('ggplot')\n",
        "style.use('dark_background')\n",
        "plt.xlabel('Category', fontsize = 16)\n",
        "plt.ylabel('Frequency of Category',fontsize = 16)"
      ],
      "execution_count": 8,
      "outputs": [
        {
          "output_type": "stream",
          "text": [
            "Frequency of each category:\n",
            "\n",
            " Office Supplies    6026\n",
            "Furniture          2121\n",
            "Technology         1847\n",
            "Name: Category, dtype: int64\n",
            "\n",
            "Percentage of each category sold:\n",
            "\n",
            " Office Supplies    60.296178\n",
            "Furniture          21.222734\n",
            "Technology         18.481089\n",
            "Name: Category, dtype: float64\n"
          ],
          "name": "stdout"
        },
        {
          "output_type": "execute_result",
          "data": {
            "text/plain": [
              "Text(0, 0.5, 'Frequency of Category')"
            ]
          },
          "metadata": {
            "tags": []
          },
          "execution_count": 8
        },
        {
          "output_type": "display_data",
          "data": {
            "image/png": "[encoded data removed]",
            "text/plain": [
              "<Figure size 432x432 with 1 Axes>"
            ]
          },
          "metadata": {
            "tags": []
          }
        }
      ]
    },
    {
      "cell_type": "code",
      "metadata": {
        "colab": {
          "base_uri": "https://localhost:8080/",
          "height": 1000
        },
        "id": "QpRBNKD5Fo_h",
        "outputId": "a8c27906-5d92-40c7-9d8d-9de26e3acee2"
      },
      "source": [
        "print('Frequency of each sub-category:\\n\\n',data['Sub-Category'].value_counts())\n",
        "\n",
        "print('\\nPercentage of each sub-category sold:\\n\\n',(data['Sub-Category'].value_counts()/data['Sub-Category'].size)*100)\n",
        "\n",
        "plt.figure(figsize=[6,6])\n",
        "data['Sub-Category'].value_counts().plot(kind='bar', color = 'orange')\n",
        "plt.title('Sub-Category VS Frequency of Sub-Category', fontsize = 14)\n",
        "plt.xlabel('Sub-Category',fontsize = 14)\n",
        "plt.ylabel('Frequency of Sub-Category',fontsize = 14)"
      ],
      "execution_count": 9,
      "outputs": [
        {
          "output_type": "stream",
          "text": [
            "Frequency of each sub-category:\n",
            "\n",
            " Binders        1523\n",
            "Paper          1370\n",
            "Furnishings     957\n",
            "Phones          889\n",
            "Storage         846\n",
            "Art             796\n",
            "Accessories     775\n",
            "Chairs          617\n",
            "Appliances      466\n",
            "Labels          364\n",
            "Tables          319\n",
            "Envelopes       254\n",
            "Bookcases       228\n",
            "Fasteners       217\n",
            "Supplies        190\n",
            "Machines        115\n",
            "Copiers          68\n",
            "Name: Sub-Category, dtype: int64\n",
            "\n",
            "Percentage of each sub-category sold:\n",
            "\n",
            " Binders        15.239143\n",
            "Paper          13.708225\n",
            "Furnishings     9.575745\n",
            "Phones          8.895337\n",
            "Storage         8.465079\n",
            "Art             7.964779\n",
            "Accessories     7.754653\n",
            "Chairs          6.173704\n",
            "Appliances      4.662798\n",
            "Labels          3.642185\n",
            "Tables          3.191915\n",
            "Envelopes       2.541525\n",
            "Bookcases       2.281369\n",
            "Fasteners       2.171303\n",
            "Supplies        1.901141\n",
            "Machines        1.150690\n",
            "Copiers         0.680408\n",
            "Name: Sub-Category, dtype: float64\n"
          ],
          "name": "stdout"
        },
        {
          "output_type": "execute_result",
          "data": {
            "text/plain": [
              "Text(0, 0.5, 'Frequency of Sub-Category')"
            ]
          },
          "metadata": {
            "tags": []
          },
          "execution_count": 9
        },
        {
          "output_type": "display_data",
          "data": {
            "image/png": "[encoded data removed]",
            "text/plain": [
              "<Figure size 432x432 with 1 Axes>"
            ]
          },
          "metadata": {
            "tags": []
          }
        }
      ]
    },
    {
      "cell_type": "code",
      "metadata": {
        "colab": {
          "base_uri": "https://localhost:8080/",
          "height": 704
        },
        "id": "S9sgt0pmFtYe",
        "outputId": "3782b50c-5ade-433b-83c6-a58d9c72d3c5"
      },
      "source": [
        "print('Frequency of each segment:\\n\\n',data['Segment'].value_counts())\n",
        "\n",
        "print('\\nPercentage of each segment sold:\\n\\n',(data['Segment'].value_counts()/data['Segment'].size)*100)\n",
        "\n",
        "plt.figure(figsize=[6,6])\n",
        "data['Segment'].value_counts().plot(kind='bar', color= 'yellow')\n",
        "plt.title('Segment VS Frequency of Segment', fontsize = 14)\n",
        "plt.xlabel('Segment', fontsize = 14)\n",
        "plt.ylabel('Frequency of Segment',fontsize = 14)"
      ],
      "execution_count": 10,
      "outputs": [
        {
          "output_type": "stream",
          "text": [
            "Frequency of each segment:\n",
            "\n",
            " Consumer       5191\n",
            "Corporate      3020\n",
            "Home Office    1783\n",
            "Name: Segment, dtype: int64\n",
            "\n",
            "Percentage of each segment sold:\n",
            "\n",
            " Consumer       51.941165\n",
            "Corporate      30.218131\n",
            "Home Office    17.840704\n",
            "Name: Segment, dtype: float64\n"
          ],
          "name": "stdout"
        },
        {
          "output_type": "execute_result",
          "data": {
            "text/plain": [
              "Text(0, 0.5, 'Frequency of Segment')"
            ]
          },
          "metadata": {
            "tags": []
          },
          "execution_count": 10
        },
        {
          "output_type": "display_data",
          "data": {
            "image/png": "[encoded data removed]",
            "text/plain": [
              "<Figure size 432x432 with 1 Axes>"
            ]
          },
          "metadata": {
            "tags": []
          }
        }
      ]
    },
    {
      "cell_type": "code",
      "metadata": {
        "colab": {
          "base_uri": "https://localhost:8080/",
          "height": 751
        },
        "id": "PUeFtfPAFyCR",
        "outputId": "c87052ab-184b-40a7-e296-d41da9561221"
      },
      "source": [
        "print('Frequency of each shipping mode:\\n\\n',data['Ship Mode'].value_counts())\n",
        "\n",
        "print('\\nPercentage of each shipping mode:\\n\\n',(data['Ship Mode'].value_counts()/data['Ship Mode'].size)*100)\n",
        "\n",
        "plt.figure(figsize=[6,6])\n",
        "data['Ship Mode'].value_counts().plot(kind='bar', color= 'blue')\n",
        "plt.title('Ship Mode VS Frequency of Ship Mode', fontsize = 14)\n",
        "plt.xlabel('Ship Mode', fontsize = 14)\n",
        "plt.ylabel('Frequency of Ship Mode',fontsize = 14)"
      ],
      "execution_count": 11,
      "outputs": [
        {
          "output_type": "stream",
          "text": [
            "Frequency of each shipping mode:\n",
            "\n",
            " Standard Class    5968\n",
            "Second Class      1945\n",
            "First Class       1538\n",
            "Same Day           543\n",
            "Name: Ship Mode, dtype: int64\n",
            "\n",
            "Percentage of each shipping mode:\n",
            "\n",
            " Standard Class    59.715829\n",
            "Second Class      19.461677\n",
            "First Class       15.389234\n",
            "Same Day           5.433260\n",
            "Name: Ship Mode, dtype: float64\n"
          ],
          "name": "stdout"
        },
        {
          "output_type": "execute_result",
          "data": {
            "text/plain": [
              "Text(0, 0.5, 'Frequency of Ship Mode')"
            ]
          },
          "metadata": {
            "tags": []
          },
          "execution_count": 11
        },
        {
          "output_type": "display_data",
          "data": {
            "image/png": "[encoded data removed]",
            "text/plain": [
              "<Figure size 432x432 with 1 Axes>"
            ]
          },
          "metadata": {
            "tags": []
          }
        }
      ]
    },
    {
      "cell_type": "markdown",
      "metadata": {
        "id": "8P-5VA31F4DC"
      },
      "source": [
        "# **Bivariate Ananlysis**"
      ]
    },
    {
      "cell_type": "code",
      "metadata": {
        "colab": {
          "base_uri": "https://localhost:8080/",
          "height": 175
        },
        "id": "wQg6ZVIVF7kF",
        "outputId": "c8959627-1a9d-4d3b-c624-be21a0bed99a"
      },
      "source": [
        "data.pivot_table(index='Segment',columns='Discount',values='Profit',aggfunc='mean')"
      ],
      "execution_count": 12,
      "outputs": [
        {
          "output_type": "execute_result",
          "data": {
            "text/html": [
              "<div>\n",
              "<style scoped>\n",
              "    .dataframe tbody tr th:only-of-type {\n",
              "        vertical-align: middle;\n",
              "    }\n",
              "\n",
              "    .dataframe tbody tr th {\n",
              "        vertical-align: top;\n",
              "    }\n",
              "\n",
              "    .dataframe thead th {\n",
              "        text-align: right;\n",
              "    }\n",
              "</style>\n",
              "<table border=\"1\" class=\"dataframe\">\n",
              "  <thead>\n",
              "    <tr style=\"text-align: right;\">\n",
              "      <th>Discount</th>\n",
              "      <th>0.00</th>\n",
              "      <th>0.10</th>\n",
              "      <th>0.15</th>\n",
              "      <th>0.20</th>\n",
              "      <th>0.30</th>\n",
              "      <th>0.32</th>\n",
              "      <th>0.40</th>\n",
              "      <th>0.45</th>\n",
              "      <th>0.50</th>\n",
              "      <th>0.60</th>\n",
              "      <th>0.70</th>\n",
              "      <th>0.80</th>\n",
              "    </tr>\n",
              "    <tr>\n",
              "      <th>Segment</th>\n",
              "      <th></th>\n",
              "      <th></th>\n",
              "      <th></th>\n",
              "      <th></th>\n",
              "      <th></th>\n",
              "      <th></th>\n",
              "      <th></th>\n",
              "      <th></th>\n",
              "      <th></th>\n",
              "      <th></th>\n",
              "      <th></th>\n",
              "      <th></th>\n",
              "    </tr>\n",
              "  </thead>\n",
              "  <tbody>\n",
              "    <tr>\n",
              "      <th>Consumer</th>\n",
              "      <td>64.161707</td>\n",
              "      <td>93.630090</td>\n",
              "      <td>15.744638</td>\n",
              "      <td>22.426571</td>\n",
              "      <td>-48.018291</td>\n",
              "      <td>-102.708631</td>\n",
              "      <td>-93.462041</td>\n",
              "      <td>-216.651900</td>\n",
              "      <td>-253.572181</td>\n",
              "      <td>-38.639822</td>\n",
              "      <td>-106.962433</td>\n",
              "      <td>-115.213404</td>\n",
              "    </tr>\n",
              "    <tr>\n",
              "      <th>Corporate</th>\n",
              "      <td>71.584290</td>\n",
              "      <td>99.802956</td>\n",
              "      <td>49.282143</td>\n",
              "      <td>23.157672</td>\n",
              "      <td>-46.241380</td>\n",
              "      <td>-82.702010</td>\n",
              "      <td>-132.003562</td>\n",
              "      <td>-280.968633</td>\n",
              "      <td>-388.164788</td>\n",
              "      <td>-40.623326</td>\n",
              "      <td>-68.023771</td>\n",
              "      <td>-96.815833</td>\n",
              "    </tr>\n",
              "    <tr>\n",
              "      <th>Home Office</th>\n",
              "      <td>66.961384</td>\n",
              "      <td>97.234865</td>\n",
              "      <td>30.271889</td>\n",
              "      <td>34.734830</td>\n",
              "      <td>-37.189678</td>\n",
              "      <td>-57.226350</td>\n",
              "      <td>-119.900858</td>\n",
              "      <td>-175.146900</td>\n",
              "      <td>-377.121333</td>\n",
              "      <td>-60.039948</td>\n",
              "      <td>-115.479956</td>\n",
              "      <td>-62.509202</td>\n",
              "    </tr>\n",
              "  </tbody>\n",
              "</table>\n",
              "</div>"
            ],
            "text/plain": [
              "Discount          0.00       0.10       0.15  ...       0.60        0.70        0.80\n",
              "Segment                                       ...                                   \n",
              "Consumer     64.161707  93.630090  15.744638  ... -38.639822 -106.962433 -115.213404\n",
              "Corporate    71.584290  99.802956  49.282143  ... -40.623326  -68.023771  -96.815833\n",
              "Home Office  66.961384  97.234865  30.271889  ... -60.039948 -115.479956  -62.509202\n",
              "\n",
              "[3 rows x 12 columns]"
            ]
          },
          "metadata": {
            "tags": []
          },
          "execution_count": 12
        }
      ]
    },
    {
      "cell_type": "code",
      "metadata": {
        "colab": {
          "base_uri": "https://localhost:8080/",
          "height": 175
        },
        "id": "wwYn89TXGAaQ",
        "outputId": "f6cdaa51-2ab6-4796-b39d-13ed242e9c08"
      },
      "source": [
        "data.pivot_table(index='Segment',columns='Category',values='Profit',aggfunc='mean')"
      ],
      "execution_count": 13,
      "outputs": [
        {
          "output_type": "execute_result",
          "data": {
            "text/html": [
              "<div>\n",
              "<style scoped>\n",
              "    .dataframe tbody tr th:only-of-type {\n",
              "        vertical-align: middle;\n",
              "    }\n",
              "\n",
              "    .dataframe tbody tr th {\n",
              "        vertical-align: top;\n",
              "    }\n",
              "\n",
              "    .dataframe thead th {\n",
              "        text-align: right;\n",
              "    }\n",
              "</style>\n",
              "<table border=\"1\" class=\"dataframe\">\n",
              "  <thead>\n",
              "    <tr style=\"text-align: right;\">\n",
              "      <th>Category</th>\n",
              "      <th>Furniture</th>\n",
              "      <th>Office Supplies</th>\n",
              "      <th>Technology</th>\n",
              "    </tr>\n",
              "    <tr>\n",
              "      <th>Segment</th>\n",
              "      <th></th>\n",
              "      <th></th>\n",
              "      <th></th>\n",
              "    </tr>\n",
              "  </thead>\n",
              "  <tbody>\n",
              "    <tr>\n",
              "      <th>Consumer</th>\n",
              "      <td>6.281293</td>\n",
              "      <td>18.014174</td>\n",
              "      <td>74.445646</td>\n",
              "    </tr>\n",
              "    <tr>\n",
              "      <th>Corporate</th>\n",
              "      <td>11.741201</td>\n",
              "      <td>22.102923</td>\n",
              "      <td>79.723823</td>\n",
              "    </tr>\n",
              "    <tr>\n",
              "      <th>Home Office</th>\n",
              "      <td>10.705465</td>\n",
              "      <td>24.034439</td>\n",
              "      <td>89.152458</td>\n",
              "    </tr>\n",
              "  </tbody>\n",
              "</table>\n",
              "</div>"
            ],
            "text/plain": [
              "Category     Furniture  Office Supplies  Technology\n",
              "Segment                                            \n",
              "Consumer      6.281293        18.014174   74.445646\n",
              "Corporate    11.741201        22.102923   79.723823\n",
              "Home Office  10.705465        24.034439   89.152458"
            ]
          },
          "metadata": {
            "tags": []
          },
          "execution_count": 13
        }
      ]
    },
    {
      "cell_type": "code",
      "metadata": {
        "colab": {
          "base_uri": "https://localhost:8080/",
          "height": 229
        },
        "id": "kR9h9gFqGEJv",
        "outputId": "ae330560-ce9a-4a8c-baed-69f36d20e6ff"
      },
      "source": [
        "data.pivot_table(index='Segment',columns='Sub-Category',values='Profit',aggfunc='mean')"
      ],
      "execution_count": 14,
      "outputs": [
        {
          "output_type": "execute_result",
          "data": {
            "text/html": [
              "<div>\n",
              "<style scoped>\n",
              "    .dataframe tbody tr th:only-of-type {\n",
              "        vertical-align: middle;\n",
              "    }\n",
              "\n",
              "    .dataframe tbody tr th {\n",
              "        vertical-align: top;\n",
              "    }\n",
              "\n",
              "    .dataframe thead th {\n",
              "        text-align: right;\n",
              "    }\n",
              "</style>\n",
              "<table border=\"1\" class=\"dataframe\">\n",
              "  <thead>\n",
              "    <tr style=\"text-align: right;\">\n",
              "      <th>Sub-Category</th>\n",
              "      <th>Accessories</th>\n",
              "      <th>Appliances</th>\n",
              "      <th>Art</th>\n",
              "      <th>Binders</th>\n",
              "      <th>Bookcases</th>\n",
              "      <th>Chairs</th>\n",
              "      <th>Copiers</th>\n",
              "      <th>Envelopes</th>\n",
              "      <th>Fasteners</th>\n",
              "      <th>Furnishings</th>\n",
              "      <th>Labels</th>\n",
              "      <th>Machines</th>\n",
              "      <th>Paper</th>\n",
              "      <th>Phones</th>\n",
              "      <th>Storage</th>\n",
              "      <th>Supplies</th>\n",
              "      <th>Tables</th>\n",
              "    </tr>\n",
              "    <tr>\n",
              "      <th>Segment</th>\n",
              "      <th></th>\n",
              "      <th></th>\n",
              "      <th></th>\n",
              "      <th></th>\n",
              "      <th></th>\n",
              "      <th></th>\n",
              "      <th></th>\n",
              "      <th></th>\n",
              "      <th></th>\n",
              "      <th></th>\n",
              "      <th></th>\n",
              "      <th></th>\n",
              "      <th></th>\n",
              "      <th></th>\n",
              "      <th></th>\n",
              "      <th></th>\n",
              "      <th></th>\n",
              "    </tr>\n",
              "  </thead>\n",
              "  <tbody>\n",
              "    <tr>\n",
              "      <th>Consumer</th>\n",
              "      <td>50.823339</td>\n",
              "      <td>28.614460</td>\n",
              "      <td>8.070797</td>\n",
              "      <td>23.071278</td>\n",
              "      <td>-33.859834</td>\n",
              "      <td>40.228972</td>\n",
              "      <td>688.106017</td>\n",
              "      <td>25.305524</td>\n",
              "      <td>5.059656</td>\n",
              "      <td>16.031220</td>\n",
              "      <td>16.275071</td>\n",
              "      <td>37.562488</td>\n",
              "      <td>22.416513</td>\n",
              "      <td>52.853913</td>\n",
              "      <td>15.787112</td>\n",
              "      <td>-16.575513</td>\n",
              "      <td>-61.182628</td>\n",
              "    </tr>\n",
              "    <tr>\n",
              "      <th>Corporate</th>\n",
              "      <td>55.980090</td>\n",
              "      <td>47.934808</td>\n",
              "      <td>9.195632</td>\n",
              "      <td>13.482706</td>\n",
              "      <td>9.975784</td>\n",
              "      <td>44.386471</td>\n",
              "      <td>949.513945</td>\n",
              "      <td>30.609869</td>\n",
              "      <td>4.269542</td>\n",
              "      <td>12.181277</td>\n",
              "      <td>17.263013</td>\n",
              "      <td>20.086257</td>\n",
              "      <td>25.395948</td>\n",
              "      <td>43.258160</td>\n",
              "      <td>35.119326</td>\n",
              "      <td>5.556170</td>\n",
              "      <td>-46.287723</td>\n",
              "    </tr>\n",
              "    <tr>\n",
              "      <th>Home Office</th>\n",
              "      <td>60.665948</td>\n",
              "      <td>55.614657</td>\n",
              "      <td>7.125588</td>\n",
              "      <td>21.662393</td>\n",
              "      <td>9.837333</td>\n",
              "      <td>50.101779</td>\n",
              "      <td>964.910415</td>\n",
              "      <td>27.525246</td>\n",
              "      <td>2.745782</td>\n",
              "      <td>9.322933</td>\n",
              "      <td>9.718333</td>\n",
              "      <td>23.507657</td>\n",
              "      <td>30.324829</td>\n",
              "      <td>53.689134</td>\n",
              "      <td>37.085304</td>\n",
              "      <td>4.466393</td>\n",
              "      <td>-57.239717</td>\n",
              "    </tr>\n",
              "  </tbody>\n",
              "</table>\n",
              "</div>"
            ],
            "text/plain": [
              "Sub-Category  Accessories  Appliances  ...   Supplies     Tables\n",
              "Segment                                ...                      \n",
              "Consumer        50.823339   28.614460  ... -16.575513 -61.182628\n",
              "Corporate       55.980090   47.934808  ...   5.556170 -46.287723\n",
              "Home Office     60.665948   55.614657  ...   4.466393 -57.239717\n",
              "\n",
              "[3 rows x 17 columns]"
            ]
          },
          "metadata": {
            "tags": []
          },
          "execution_count": 14
        }
      ]
    },
    {
      "cell_type": "markdown",
      "metadata": {
        "id": "HXb2QncDGGSf"
      },
      "source": [
        "# **Graphical Representation**"
      ]
    },
    {
      "cell_type": "code",
      "metadata": {
        "colab": {
          "base_uri": "https://localhost:8080/",
          "height": 425
        },
        "id": "4QIz1XoZGJ0v",
        "outputId": "36eca955-c907-4c66-be75-0c4e11f71ee5"
      },
      "source": [
        "plt.figure(figsize=(10,5))\n",
        "profit_table=data.groupby(['Segment','Discount']).Profit.mean()\n",
        "profit_table.plot(kind='bar', color = 'red')\n",
        "plt.show()"
      ],
      "execution_count": 15,
      "outputs": [
        {
          "output_type": "display_data",
          "data": {
            "image/png": "[encoded data removed]",
            "text/plain": [
              "<Figure size 720x360 with 1 Axes>"
            ]
          },
          "metadata": {
            "tags": []
          }
        }
      ]
    },
    {
      "cell_type": "code",
      "metadata": {
        "colab": {
          "base_uri": "https://localhost:8080/",
          "height": 477
        },
        "id": "LJN1ekGIGPFs",
        "outputId": "8fe5aef5-7914-466b-ffaa-b9b8fd429f9e"
      },
      "source": [
        "plt.figure(figsize=(10,5))\n",
        "profit_table=data.groupby(['Segment','Category']).Profit.mean()\n",
        "profit_table.plot(kind='bar', color = 'orange')\n",
        "plt.show()"
      ],
      "execution_count": 16,
      "outputs": [
        {
          "output_type": "display_data",
          "data": {
            "image/png": "[encoded data removed]",
            "text/plain": [
              "<Figure size 720x360 with 1 Axes>"
            ]
          },
          "metadata": {
            "tags": []
          }
        }
      ]
    },
    {
      "cell_type": "markdown",
      "metadata": {
        "id": "p0ko72U7GT-L"
      },
      "source": [
        "The shopkeeper can analyse the above data analysis and take up steps to maximise his profit for example, having discounts on items not exceeding 20%, investing more on technology items since that has the highest profit rate for all segment of consumers and so on."
      ]
    },
    {
      "cell_type": "markdown",
      "metadata": {
        "id": "HWnAuRBgGUi_"
      },
      "source": [
        "# ***THANK YOU***"
      ]
    }
  ]
}